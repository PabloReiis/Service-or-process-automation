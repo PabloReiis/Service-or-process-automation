{
 "cells": [
  {
   "cell_type": "markdown",
   "metadata": {},
   "source": [
    "# Automação de Sistemas e Processos com Python\n",
    "\n",
    "### Desafio:\n",
    "\n",
    "Todos os dias, o nosso sistema atualiza as vendas do dia anterior.\n",
    "O seu trabalho diário, como analista, é enviar um e-mail para a diretoria, assim que começar a trabalhar, com o faturamento e a quantidade de produtos vendidos no dia anterior\n",
    "\n",
    "E-mail da diretoria: seugmail+diretoria@gmail.com<br>\n",
    "Local onde o sistema disponibiliza as vendas do dia anterior: https://drive.google.com/drive/folders/149xknr9JvrlEnhNWO49zPcw0PW5icxga?usp=sharing\n",
    "\n",
    "Para resolver isso, vamos usar o pyautogui, uma biblioteca de automação de comandos do mouse e do teclado"
   ]
  },
  {
   "cell_type": "code",
   "execution_count": null,
   "metadata": {
    "scrolled": true
   },
   "outputs": [],
   "source": [
    "!pip install pyautogui"
   ]
  },
  {
   "cell_type": "code",
   "execution_count": null,
   "metadata": {},
   "outputs": [],
   "source": [
    "import pyautogui\n",
    "import pyperclip\n",
    "import time\n",
    "\n",
    "pyautogui.PAUSE = 1\n",
    "\n",
    "# passo 1 : entrar no sistema da empresa\n",
    "pyautogui.hotkey(\"ctrl\", \"t\")\n",
    "pyperclip.copy(\"https://drive.google.com/drive/folders/149xknr9JvrlEnhNWO49zPcw0PW5icxga?usp=sharing\")\n",
    "pyautogui.hotkey(\"ctrl\",\"v\")\n",
    "pyautogui.press(\"enter\")\n",
    "\n",
    "time.sleep(3)\n",
    "\n",
    "# passo 2 : navegar e encontra a  base de dados de vendas\n",
    "pyautogui.click(x=433, y=313, clicks=2)\n",
    "time.sleep(2)\n",
    "\n",
    "# passo 3 : baixa a base de dados\n",
    "pyautogui.click(x=456, y=367) # clica no arquivo\n",
    "pyautogui.click(x=1070, y=186) # clica nos 3 pontinhos\n",
    "pyautogui.click(x=928, y=580) # clica em download\n",
    "time.sleep(1)"
   ]
  },
  {
   "cell_type": "markdown",
   "metadata": {},
   "source": [
    "### Vamos agora ler o arquivo baixado para pegar os indicadores\n",
    "\n",
    "- Faturamento\n",
    "- Quantidade de Produtos"
   ]
  },
  {
   "cell_type": "code",
   "execution_count": null,
   "metadata": {},
   "outputs": [],
   "source": [
    "# passo 4: importar a base de dados\n",
    "import pandas as pd\n",
    "\n",
    "tabela = pd.read_excel(r\"C:\\Users\\spect\\Desktop\\intesivao python\\Vendas - Dez.xlsx\")\n",
    "display(tabela)"
   ]
  },
  {
   "cell_type": "code",
   "execution_count": null,
   "metadata": {},
   "outputs": [],
   "source": [
    "# passo 5: calcular os indicadores da empresa\n",
    "faturamento = tabela[\"Valor Final\"].sum()\n",
    "print(faturamento)\n",
    "quantidade = tabela[\"Quantidade\"].sum()\n",
    "print(quantidade)"
   ]
  },
  {
   "cell_type": "markdown",
   "metadata": {},
   "source": [
    "### Vamos agora enviar um e-mail pelo gmail"
   ]
  },
  {
   "cell_type": "code",
   "execution_count": null,
   "metadata": {},
   "outputs": [],
   "source": [
    "# passo 6: enviar um email\n",
    "\n",
    "# abrir aba\n",
    "pyautogui.hotkey(\"ctrl\", \"t\")\n",
    "\n",
    "# carregar email \n",
    "pyperclip.copy(\"https://mail.google.com/mail/u/1/#inbox\")\n",
    "pyautogui.hotkey(\"ctrl\",\"v\")\n",
    "pyautogui.press(\"enter\")\n",
    "time.sleep(5)\n",
    "\n",
    "# clicar no botao escrever\n",
    "pyautogui.click(x=105, y=194)\n",
    "\n",
    "# preencher as informações do email\n",
    "pyautogui.write(\"gravityextreme86@gmail.com\")\n",
    "pyautogui.press(\"tab\")\n",
    "\n",
    "pyautogui.press(\"tab\")\n",
    "pyperclip.copy(\"Relatório de Vendas\")\n",
    "pyautogui.hotkey(\"ctrl\", \"v\")\n",
    "\n",
    "pyautogui.press(\"tab\")\n",
    "\n",
    "texto = f\"\"\"\n",
    "Prezados,\n",
    "\n",
    "Segue o relatório de vendas.\n",
    "Faturamento: R${faturamento:,.2f}\n",
    "Quantidade de produto vendido: {quantidade:,}\n",
    "\n",
    "Qualquer dúvida estou à disposição.\n",
    "Att.\n",
    "\n",
    "Pablo do Python\n",
    "\"\"\"\n",
    "pyperclip.copy(texto)\n",
    "pyautogui.hotkey(\"ctrl\",\"v\")\n",
    "\n",
    "# enviar email\n",
    "pyautogui.click(x=875, y=642)\n",
    "pyautogui.click(x=914, y=583)\n",
    "pyautogui.click(x=111, y=180)\n",
    "pyautogui.click(x=348, y=186, clicks=2)\n",
    "pyautogui.click(x=250, y=185, clicks=2)\n",
    "time.sleep(5)\n",
    "pyautogui.hotkey(\"ctrl\", \"enter\")"
   ]
  },
  {
   "cell_type": "markdown",
   "metadata": {},
   "source": [
    "#### Use esse código para descobrir qual a posição de um item que queira clicar\n",
    "\n",
    "- Lembre-se: a posição na sua tela é diferente da posição na minha tela"
   ]
  },
  {
   "cell_type": "code",
   "execution_count": null,
   "metadata": {},
   "outputs": [],
   "source": [
    "time.sleep(10)\n",
    "pyautogui.position()"
   ]
  },
  {
   "cell_type": "code",
   "execution_count": null,
   "metadata": {},
   "outputs": [],
   "source": []
  },
  {
   "cell_type": "code",
   "execution_count": null,
   "metadata": {},
   "outputs": [],
   "source": []
  }
 ],
 "metadata": {
  "kernelspec": {
   "display_name": "Python 3 (ipykernel)",
   "language": "python",
   "name": "python3"
  },
  "language_info": {
   "codemirror_mode": {
    "name": "ipython",
    "version": 3
   },
   "file_extension": ".py",
   "mimetype": "text/x-python",
   "name": "python",
   "nbconvert_exporter": "python",
   "pygments_lexer": "ipython3",
   "version": "3.9.12"
  }
 },
 "nbformat": 4,
 "nbformat_minor": 4
}
